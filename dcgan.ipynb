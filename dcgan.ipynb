{
  "nbformat": 4,
  "nbformat_minor": 0,
  "metadata": {
    "colab": {
      "provenance": [],
      "gpuType": "T4",
      "include_colab_link": true
    },
    "kernelspec": {
      "name": "python3",
      "display_name": "Python 3"
    },
    "language_info": {
      "name": "python"
    },
    "accelerator": "GPU"
  },
  "cells": [
    {
      "cell_type": "markdown",
      "metadata": {
        "id": "view-in-github",
        "colab_type": "text"
      },
      "source": [
        "<a href=\"https://colab.research.google.com/github/sfarrukhm/genAI/blob/main/dcgan.ipynb\" target=\"_parent\"><img src=\"https://colab.research.google.com/assets/colab-badge.svg\" alt=\"Open In Colab\"/></a>"
      ]
    },
    {
      "cell_type": "code",
      "source": [
        "import kagglehub\n",
        "\n",
        "# Download latest version\n",
        "path = kagglehub.dataset_download(\"jessicali9530/celeba-dataset\")"
      ],
      "metadata": {
        "colab": {
          "base_uri": "https://localhost:8080/"
        },
        "id": "r7FgPgMCdbS_",
        "outputId": "93b71558-ac83-468c-ddad-39976cd905ec"
      },
      "execution_count": 1,
      "outputs": [
        {
          "output_type": "stream",
          "name": "stdout",
          "text": [
            "Downloading from https://www.kaggle.com/api/v1/datasets/download/jessicali9530/celeba-dataset?dataset_version_number=2...\n"
          ]
        },
        {
          "output_type": "stream",
          "name": "stderr",
          "text": [
            "100%|██████████| 1.33G/1.33G [00:16<00:00, 85.5MB/s]"
          ]
        },
        {
          "output_type": "stream",
          "name": "stdout",
          "text": [
            "Extracting files...\n"
          ]
        },
        {
          "output_type": "stream",
          "name": "stderr",
          "text": [
            "\n"
          ]
        }
      ]
    },
    {
      "cell_type": "code",
      "source": [
        "from google.colab import drive\n",
        "drive.mount('/content/drive')"
      ],
      "metadata": {
        "id": "rX5_5nlGyi7K",
        "outputId": "c177408b-8a62-4b44-9a4a-f68f973e54d9",
        "colab": {
          "base_uri": "https://localhost:8080/"
        }
      },
      "execution_count": 3,
      "outputs": [
        {
          "output_type": "stream",
          "name": "stdout",
          "text": [
            "Mounted at /content/drive\n"
          ]
        }
      ]
    },
    {
      "cell_type": "code",
      "source": [
        "import os\n",
        "from torchvision import  transforms, datasets\n",
        "from torch.utils.data import DataLoader, Dataset, random_split\n",
        "import torch.nn as nn\n",
        "import torch\n",
        "from PIL import Image\n",
        "import torchvision\n",
        "\n",
        "\n",
        "transform=transforms.Compose([\n",
        "    transforms.Resize([64,64]),\n",
        "    transforms.ToTensor(),\n",
        "    # transforms.Grayscale(num_output_channels=1),\n",
        "    transforms.Normalize(mean=(0.5),std=(0.5))\n",
        "    ])\n",
        "\n",
        "class ImagesWithNoLabels(datasets.ImageFolder):\n",
        "  def __getitem__(self, index):\n",
        "    image, _ = super().__getitem__(index)\n",
        "    return image\n",
        "dataset=ImagesWithNoLabels(path,transform=transform)\n",
        "\n",
        "\n",
        "\n",
        "from torch.utils.data import Subset\n",
        "train_dataset=Subset(dataset,list(range(10000)))\n",
        "valid_dataset=Subset(dataset,list(range(10000,12000)))\n",
        "test_dataset=Subset(dataset,list(range(12000,13000)))\n",
        "\n",
        "\n",
        "# Create DataLoaders\n",
        "train_loader = DataLoader(train_dataset, batch_size=12, shuffle=True)\n",
        "valid_loader = DataLoader(valid_dataset, batch_size=12, shuffle=False)\n",
        "test_loader = DataLoader(test_dataset, batch_size=12, shuffle=False)\n"
      ],
      "metadata": {
        "id": "WU9Tyv3P0mXL"
      },
      "execution_count": 28,
      "outputs": []
    },
    {
      "cell_type": "code",
      "source": [
        "import matplotlib.pyplot as plt\n",
        "\n",
        "# Get the image and label (ignore label if unnecessary)\n",
        "image= dataset[54]  # If using a custom dataset that returns only images, no label will be present\n",
        "\n",
        "# Show the image using Matplotlib\n",
        "plt.imshow(image.permute(1, 2, 0))  # Permute channels for matplotlib [C, H, W] -> [H, W, C]\n",
        "plt.axis('off')\n",
        "plt.show()\n"
      ],
      "metadata": {
        "colab": {
          "base_uri": "https://localhost:8080/",
          "height": 424
        },
        "id": "xohPAOTjYICa",
        "outputId": "684b5729-9b24-45a3-9b30-e6cc02b455e2"
      },
      "execution_count": null,
      "outputs": [
        {
          "output_type": "stream",
          "name": "stderr",
          "text": [
            "WARNING:matplotlib.image:Clipping input data to the valid range for imshow with RGB data ([0..1] for floats or [0..255] for integers). Got range [-0.9764706..1.0].\n"
          ]
        },
        {
          "output_type": "display_data",
          "data": {
            "text/plain": [
              "<Figure size 640x480 with 1 Axes>"
            ],
            "image/png": "[encoded data removed]"
          },
          "metadata": {}
        }
      ]
    },
    {
      "cell_type": "code",
      "source": [
        "class DCGAN(nn.Module):\n",
        "  def __init__(self,latent_dim=100 ):\n",
        "    super().__init__()\n",
        "    self.discriminator=nn.Sequential(\n",
        "        nn.Conv2d(in_channels=3,out_channels=64,kernel_size=4,\n",
        "                  stride=2,padding=1,bias=False),\n",
        "        nn.LeakyReLU(inplace=True),\n",
        "        # nn.Dropout(0.3),\n",
        "        nn.Conv2d(64,128,kernel_size=4,\n",
        "                  stride=2,padding=1,bias=False),\n",
        "        nn.BatchNorm2d(128),\n",
        "        nn.LeakyReLU(inplace=True),\n",
        "        # nn.Dropout(0.3),\n",
        "        nn.Conv2d(128,256,kernel_size=4,\n",
        "                  stride=2,padding=1,bias=False),\n",
        "        nn.BatchNorm2d(256),\n",
        "        nn.LeakyReLU(inplace=True),\n",
        "        # nn.Dropout(0.3),\n",
        "        nn.Conv2d(256,512,kernel_size=4,\n",
        "                  stride=2,padding=1,bias=False),\n",
        "        nn.BatchNorm2d(512),\n",
        "        nn.LeakyReLU(inplace=True),\n",
        "        # nn.Dropout(0.3),\n",
        "        nn.Conv2d(512,1,kernel_size=4,\n",
        "                  stride=2,padding=0,bias=False,),\n",
        "        nn.Flatten())\n",
        "    self.generator=nn.Sequential(\n",
        "        nn.ConvTranspose2d(latent_dim,512, kernel_size=4, stride=1,\n",
        "                           padding=0,\n",
        "                               bias=False),\n",
        "        nn.BatchNorm2d(512),\n",
        "        nn.LeakyReLU(inplace=True),\n",
        "        nn.ConvTranspose2d(512,256,kernel_size=4, stride=2, padding=1,\n",
        "                               bias=False),\n",
        "        nn.BatchNorm2d(256),\n",
        "        nn.LeakyReLU(inplace=True),\n",
        "        nn.ConvTranspose2d(256,128,kernel_size=4, stride=2, padding=1,\n",
        "                               bias=False),\n",
        "        nn.BatchNorm2d(128),\n",
        "        nn.LeakyReLU(inplace=True),\n",
        "\n",
        "        nn.ConvTranspose2d(128,64,kernel_size=4, stride=2, padding=1,\n",
        "                               bias=False),\n",
        "        nn.BatchNorm2d(64),\n",
        "        nn.LeakyReLU(inplace=True),\n",
        "        nn.ConvTranspose2d(64,3,kernel_size=4, stride=2, padding=1,\n",
        "                               bias=False),\n",
        "        nn.Tanh()\n",
        "    )\n",
        "  def generator_forward(self,z):\n",
        "    generated_image=self.generator(z)\n",
        "    return generated_image\n",
        "  def discriminator_forward(self,image):\n",
        "    logits=self.discriminator(image)\n",
        "    return logits\n",
        "\n",
        "\n",
        "\n",
        "from torch.optim import Adam\n",
        "\n",
        "model=DCGAN()\n",
        "\n",
        "optimizer_gener=Adam(model.generator.parameters(),lr=0.0002,betas=(0.5,0.999),)\n",
        "optimizer_discr=Adam(model.discriminator.parameters(),lr=0.0002,betas=(0.5,0.999),)"
      ],
      "metadata": {
        "id": "7yxs1R5nh1CH"
      },
      "execution_count": 32,
      "outputs": []
    },
    {
      "cell_type": "code",
      "source": [
        "## Training Loop\n",
        "from collections import defaultdict\n",
        "import time\n",
        "from tqdm import tqdm\n",
        "\n",
        "device=\"cuda\" if torch.cuda.is_available() else \"cpu\"\n",
        "def train_model(model, num_epochs, optimizer_gener, optimizer_discr,\n",
        "                device, train_loader,latent_dim=100, logging_interval=100,save_model=None):\n",
        "  log_dict=defaultdict(list)\n",
        "  # define the loss function\n",
        "  loss_fn=torch.nn.BCEWithLogitsLoss()\n",
        "  torch.manual_seed(23424)\n",
        "  fixed_noise=torch.randn(64, latent_dim, 1, 1, device=device)\n",
        "  start_time=time.time()\n",
        "\n",
        "  model.to(device)\n",
        "\n",
        "  for epoch in range(num_epochs):\n",
        "    model.train()\n",
        "    progress_bar = tqdm(enumerate(train_loader), total=len(train_loader), desc=f\"Epoch {epoch+1}/{num_epochs}\")\n",
        "    for batch_idx, features in progress_bar:\n",
        "      batch_size=features.size(0)\n",
        "\n",
        "      # real images\n",
        "      real_images=features.to(device)\n",
        "\n",
        "      real_labels=torch.ones(batch_size, device=device)\n",
        "\n",
        "      # generated images\n",
        "      noise=torch.randn(batch_size,latent_dim, 1,1, device=device)\n",
        "      fake_images=model.generator_forward(noise)\n",
        "\n",
        "      fake_labels=torch.zeros(batch_size,device=device)\n",
        "      flipped_fake_labels=real_labels\n",
        "\n",
        "\n",
        "      # train discriminator\n",
        "      optimizer_discr.zero_grad()\n",
        "      real_img_logits=model.discriminator_forward(real_images).view(-1)\n",
        "\n",
        "\n",
        "      fake_img_logits=model.discriminator_forward(\n",
        "          fake_images.detach()).view(-1)\n",
        "      loss_on_real_imgs=loss_fn(real_img_logits, real_labels)\n",
        "      loss_on_fake_imgs=loss_fn(fake_img_logits,fake_labels)\n",
        "\n",
        "      loss_discr=0.5*(loss_on_real_imgs+loss_on_fake_imgs)\n",
        "\n",
        "      loss_discr.backward()\n",
        "      optimizer_discr.step()\n",
        "\n",
        "      # train generator\n",
        "      optimizer_gener.zero_grad()\n",
        "      logits_on_generated_images = model.discriminator_forward(fake_images).view(-1)\n",
        "      loss_gener=loss_fn(logits_on_generated_images, flipped_fake_labels)\n",
        "\n",
        "      loss_gener.backward()\n",
        "      optimizer_gener.step()\n",
        "\n",
        "\n",
        "    # --------------------------\n",
        "    # Logging\n",
        "    # --------------------------\n",
        "      log_dict['train_generator_loss_per_batch'].append(loss_gener.item())\n",
        "      log_dict['train_discriminator_loss_per_batch'].append(loss_discr.item())\n",
        "\n",
        "      predicted_labels_real = torch.where(real_img_logits.detach() > 0., 1., 0.)\n",
        "      predicted_labels_fake = torch.where(logits_on_generated_images.detach() > 0., 1., 0.)\n",
        "      acc_real = (predicted_labels_real == real_labels).float().mean()*100.\n",
        "      acc_fake = (predicted_labels_fake == fake_labels).float().mean()*100.\n",
        "      log_dict['train_discriminator_real_acc_per_batch'].append(acc_real.item())\n",
        "      log_dict['train_discriminator_fake_acc_per_batch'].append(acc_fake.item())\n",
        "\n",
        "    #   if not batch_idx % logging_interval:\n",
        "    #       print('Epoch: %03d/%03d | Batch %03d/%03d | Gen/Dis Loss: %.4f/%.4f'\n",
        "    #              % (epoch+1, num_epochs, batch_idx,\n",
        "    #                 len(train_loader), loss_gener.item(), loss_discr.item()))\n",
        "      progress_bar.set_postfix({\n",
        "                \"Gen Loss\": f\"{loss_gener.item():.4f}\",\n",
        "                \"Dis Loss\": f\"{loss_discr.item():.4f}\"\n",
        "            })\n",
        "        ### Save images for evaluation\n",
        "    with torch.no_grad():\n",
        "        fake_images = model.generator_forward(fixed_noise).detach().cpu()\n",
        "        log_dict['images_from_noise_per_epoch'].append(\n",
        "            torchvision.utils.make_grid(fake_images, padding=2, normalize=True))\n",
        "\n",
        "\n",
        "    print('Time elapsed: %.2f min' % ((time.time() - start_time)/60))\n",
        "\n",
        "  print('Total Training Time: %.2f min' % ((time.time() - start_time)/60))\n",
        "\n",
        "  if save_model is not None:\n",
        "      torch.save(model.state_dict(), save_model)\n",
        "\n",
        "  return log_dict\n",
        "\n",
        "\n",
        "\n",
        "\n",
        "save_model_path=\"/content/drive/MyDrive/deep_generative_models/trained_models/dcgan_celeba_state_dict.pt\"\n",
        "device=\"cuda\" if torch.cuda.is_available() else \"cpu\"\n",
        "log_dict =train_model(num_epochs=50, model=model,\n",
        "                        optimizer_gener=optimizer_gener,\n",
        "                        optimizer_discr=optimizer_discr,\n",
        "                        latent_dim=100,\n",
        "                        device=device,\n",
        "                        train_loader=train_loader,\n",
        "                        logging_interval=100,\n",
        "                        save_model=save_model_path)\n",
        "torch.save(log_dict,\"/content/drive/MyDrive/deep_generative_models/trained_models/dcgan_celeba_log_dict.pt\")"
      ],
      "metadata": {
        "id": "U77ahFyCdYQT",
        "colab": {
          "base_uri": "https://localhost:8080/"
        },
        "outputId": "099da277-a25c-4dcc-b8e7-bbe2964b7cac"
      },
      "execution_count": 34,
      "outputs": [
        {
          "output_type": "stream",
          "name": "stderr",
          "text": [
            "Epoch 1/50: 100%|██████████| 834/834 [00:30<00:00, 27.52it/s, Gen Loss=8.5433, Dis Loss=0.4997]\n"
          ]
        },
        {
          "output_type": "stream",
          "name": "stdout",
          "text": [
            "Time elapsed: 0.51 min\n"
          ]
        },
        {
          "output_type": "stream",
          "name": "stderr",
          "text": [
            "Epoch 2/50: 100%|██████████| 834/834 [00:30<00:00, 27.57it/s, Gen Loss=4.1546, Dis Loss=0.0341]\n"
          ]
        },
        {
          "output_type": "stream",
          "name": "stdout",
          "text": [
            "Time elapsed: 1.01 min\n"
          ]
        },
        {
          "output_type": "stream",
          "name": "stderr",
          "text": [
            "Epoch 3/50: 100%|██████████| 834/834 [00:30<00:00, 27.68it/s, Gen Loss=5.6374, Dis Loss=0.1468]\n"
          ]
        },
        {
          "output_type": "stream",
          "name": "stdout",
          "text": [
            "Time elapsed: 1.51 min\n"
          ]
        },
        {
          "output_type": "stream",
          "name": "stderr",
          "text": [
            "Epoch 4/50: 100%|██████████| 834/834 [00:30<00:00, 27.52it/s, Gen Loss=12.5941, Dis Loss=0.4967]\n"
          ]
        },
        {
          "output_type": "stream",
          "name": "stdout",
          "text": [
            "Time elapsed: 2.02 min\n"
          ]
        },
        {
          "output_type": "stream",
          "name": "stderr",
          "text": [
            "Epoch 5/50: 100%|██████████| 834/834 [00:30<00:00, 27.56it/s, Gen Loss=4.4480, Dis Loss=0.2179]\n"
          ]
        },
        {
          "output_type": "stream",
          "name": "stdout",
          "text": [
            "Time elapsed: 2.52 min\n"
          ]
        },
        {
          "output_type": "stream",
          "name": "stderr",
          "text": [
            "Epoch 6/50: 100%|██████████| 834/834 [00:30<00:00, 27.52it/s, Gen Loss=1.4357, Dis Loss=0.3488]\n"
          ]
        },
        {
          "output_type": "stream",
          "name": "stdout",
          "text": [
            "Time elapsed: 3.03 min\n"
          ]
        },
        {
          "output_type": "stream",
          "name": "stderr",
          "text": [
            "Epoch 7/50: 100%|██████████| 834/834 [00:30<00:00, 27.25it/s, Gen Loss=3.5997, Dis Loss=0.0995]\n"
          ]
        },
        {
          "output_type": "stream",
          "name": "stdout",
          "text": [
            "Time elapsed: 3.54 min\n"
          ]
        },
        {
          "output_type": "stream",
          "name": "stderr",
          "text": [
            "Epoch 8/50: 100%|██████████| 834/834 [00:30<00:00, 27.47it/s, Gen Loss=4.9148, Dis Loss=0.1293]\n"
          ]
        },
        {
          "output_type": "stream",
          "name": "stdout",
          "text": [
            "Time elapsed: 4.05 min\n"
          ]
        },
        {
          "output_type": "stream",
          "name": "stderr",
          "text": [
            "Epoch 9/50: 100%|██████████| 834/834 [00:30<00:00, 27.56it/s, Gen Loss=4.7105, Dis Loss=0.0463]\n"
          ]
        },
        {
          "output_type": "stream",
          "name": "stdout",
          "text": [
            "Time elapsed: 4.55 min\n"
          ]
        },
        {
          "output_type": "stream",
          "name": "stderr",
          "text": [
            "Epoch 10/50: 100%|██████████| 834/834 [00:30<00:00, 27.46it/s, Gen Loss=5.0683, Dis Loss=0.0980]\n"
          ]
        },
        {
          "output_type": "stream",
          "name": "stdout",
          "text": [
            "Time elapsed: 5.06 min\n"
          ]
        },
        {
          "output_type": "stream",
          "name": "stderr",
          "text": [
            "Epoch 11/50: 100%|██████████| 834/834 [00:30<00:00, 27.39it/s, Gen Loss=1.6148, Dis Loss=0.3588]\n"
          ]
        },
        {
          "output_type": "stream",
          "name": "stdout",
          "text": [
            "Time elapsed: 5.57 min\n"
          ]
        },
        {
          "output_type": "stream",
          "name": "stderr",
          "text": [
            "Epoch 12/50: 100%|██████████| 834/834 [00:30<00:00, 27.44it/s, Gen Loss=5.1219, Dis Loss=0.0085]\n"
          ]
        },
        {
          "output_type": "stream",
          "name": "stdout",
          "text": [
            "Time elapsed: 6.07 min\n"
          ]
        },
        {
          "output_type": "stream",
          "name": "stderr",
          "text": [
            "Epoch 13/50: 100%|██████████| 834/834 [00:30<00:00, 27.28it/s, Gen Loss=4.3034, Dis Loss=0.1458]\n"
          ]
        },
        {
          "output_type": "stream",
          "name": "stdout",
          "text": [
            "Time elapsed: 6.58 min\n"
          ]
        },
        {
          "output_type": "stream",
          "name": "stderr",
          "text": [
            "Epoch 14/50: 100%|██████████| 834/834 [00:30<00:00, 27.41it/s, Gen Loss=5.5458, Dis Loss=0.0096]\n"
          ]
        },
        {
          "output_type": "stream",
          "name": "stdout",
          "text": [
            "Time elapsed: 7.09 min\n"
          ]
        },
        {
          "output_type": "stream",
          "name": "stderr",
          "text": [
            "Epoch 15/50: 100%|██████████| 834/834 [00:30<00:00, 27.46it/s, Gen Loss=4.0029, Dis Loss=0.0706]\n"
          ]
        },
        {
          "output_type": "stream",
          "name": "stdout",
          "text": [
            "Time elapsed: 7.60 min\n"
          ]
        },
        {
          "output_type": "stream",
          "name": "stderr",
          "text": [
            "Epoch 16/50: 100%|██████████| 834/834 [00:30<00:00, 27.32it/s, Gen Loss=5.6355, Dis Loss=0.0202]\n"
          ]
        },
        {
          "output_type": "stream",
          "name": "stdout",
          "text": [
            "Time elapsed: 8.11 min\n"
          ]
        },
        {
          "output_type": "stream",
          "name": "stderr",
          "text": [
            "Epoch 17/50: 100%|██████████| 834/834 [00:30<00:00, 27.49it/s, Gen Loss=5.8437, Dis Loss=0.1359]\n"
          ]
        },
        {
          "output_type": "stream",
          "name": "stdout",
          "text": [
            "Time elapsed: 8.61 min\n"
          ]
        },
        {
          "output_type": "stream",
          "name": "stderr",
          "text": [
            "Epoch 18/50: 100%|██████████| 834/834 [00:30<00:00, 27.22it/s, Gen Loss=7.9926, Dis Loss=0.0404]\n"
          ]
        },
        {
          "output_type": "stream",
          "name": "stdout",
          "text": [
            "Time elapsed: 9.12 min\n"
          ]
        },
        {
          "output_type": "stream",
          "name": "stderr",
          "text": [
            "Epoch 19/50: 100%|██████████| 834/834 [00:30<00:00, 27.31it/s, Gen Loss=4.1938, Dis Loss=0.0238]\n"
          ]
        },
        {
          "output_type": "stream",
          "name": "stdout",
          "text": [
            "Time elapsed: 9.63 min\n"
          ]
        },
        {
          "output_type": "stream",
          "name": "stderr",
          "text": [
            "Epoch 20/50: 100%|██████████| 834/834 [00:30<00:00, 27.57it/s, Gen Loss=2.8761, Dis Loss=0.1983]\n"
          ]
        },
        {
          "output_type": "stream",
          "name": "stdout",
          "text": [
            "Time elapsed: 10.14 min\n"
          ]
        },
        {
          "output_type": "stream",
          "name": "stderr",
          "text": [
            "Epoch 21/50: 100%|██████████| 834/834 [00:30<00:00, 27.44it/s, Gen Loss=5.4554, Dis Loss=0.0066]\n"
          ]
        },
        {
          "output_type": "stream",
          "name": "stdout",
          "text": [
            "Time elapsed: 10.64 min\n"
          ]
        },
        {
          "output_type": "stream",
          "name": "stderr",
          "text": [
            "Epoch 22/50: 100%|██████████| 834/834 [00:30<00:00, 27.60it/s, Gen Loss=7.9785, Dis Loss=0.0747]\n"
          ]
        },
        {
          "output_type": "stream",
          "name": "stdout",
          "text": [
            "Time elapsed: 11.15 min\n"
          ]
        },
        {
          "output_type": "stream",
          "name": "stderr",
          "text": [
            "Epoch 23/50: 100%|██████████| 834/834 [00:30<00:00, 27.59it/s, Gen Loss=5.7391, Dis Loss=0.0463]\n"
          ]
        },
        {
          "output_type": "stream",
          "name": "stdout",
          "text": [
            "Time elapsed: 11.65 min\n"
          ]
        },
        {
          "output_type": "stream",
          "name": "stderr",
          "text": [
            "Epoch 24/50: 100%|██████████| 834/834 [00:30<00:00, 27.27it/s, Gen Loss=6.0620, Dis Loss=0.0081]\n"
          ]
        },
        {
          "output_type": "stream",
          "name": "stdout",
          "text": [
            "Time elapsed: 12.16 min\n"
          ]
        },
        {
          "output_type": "stream",
          "name": "stderr",
          "text": [
            "Epoch 25/50: 100%|██████████| 834/834 [00:30<00:00, 27.24it/s, Gen Loss=5.1415, Dis Loss=0.0155]\n"
          ]
        },
        {
          "output_type": "stream",
          "name": "stdout",
          "text": [
            "Time elapsed: 12.67 min\n"
          ]
        },
        {
          "output_type": "stream",
          "name": "stderr",
          "text": [
            "Epoch 26/50: 100%|██████████| 834/834 [00:30<00:00, 27.44it/s, Gen Loss=6.6855, Dis Loss=0.0088]\n"
          ]
        },
        {
          "output_type": "stream",
          "name": "stdout",
          "text": [
            "Time elapsed: 13.18 min\n"
          ]
        },
        {
          "output_type": "stream",
          "name": "stderr",
          "text": [
            "Epoch 27/50: 100%|██████████| 834/834 [00:30<00:00, 27.51it/s, Gen Loss=5.9519, Dis Loss=0.0495]\n"
          ]
        },
        {
          "output_type": "stream",
          "name": "stdout",
          "text": [
            "Time elapsed: 13.69 min\n"
          ]
        },
        {
          "output_type": "stream",
          "name": "stderr",
          "text": [
            "Epoch 28/50: 100%|██████████| 834/834 [00:30<00:00, 27.35it/s, Gen Loss=9.1610, Dis Loss=0.0137]\n"
          ]
        },
        {
          "output_type": "stream",
          "name": "stdout",
          "text": [
            "Time elapsed: 14.19 min\n"
          ]
        },
        {
          "output_type": "stream",
          "name": "stderr",
          "text": [
            "Epoch 29/50: 100%|██████████| 834/834 [00:30<00:00, 27.53it/s, Gen Loss=8.2215, Dis Loss=1.7698]\n"
          ]
        },
        {
          "output_type": "stream",
          "name": "stdout",
          "text": [
            "Time elapsed: 14.70 min\n"
          ]
        },
        {
          "output_type": "stream",
          "name": "stderr",
          "text": [
            "Epoch 30/50: 100%|██████████| 834/834 [00:30<00:00, 27.18it/s, Gen Loss=17.5952, Dis Loss=0.2913]\n"
          ]
        },
        {
          "output_type": "stream",
          "name": "stdout",
          "text": [
            "Time elapsed: 15.21 min\n"
          ]
        },
        {
          "output_type": "stream",
          "name": "stderr",
          "text": [
            "Epoch 31/50: 100%|██████████| 834/834 [00:30<00:00, 27.42it/s, Gen Loss=12.2587, Dis Loss=0.1481]\n"
          ]
        },
        {
          "output_type": "stream",
          "name": "stdout",
          "text": [
            "Time elapsed: 15.72 min\n"
          ]
        },
        {
          "output_type": "stream",
          "name": "stderr",
          "text": [
            "Epoch 32/50: 100%|██████████| 834/834 [00:30<00:00, 27.43it/s, Gen Loss=10.2064, Dis Loss=0.1018]\n"
          ]
        },
        {
          "output_type": "stream",
          "name": "stdout",
          "text": [
            "Time elapsed: 16.23 min\n"
          ]
        },
        {
          "output_type": "stream",
          "name": "stderr",
          "text": [
            "Epoch 33/50: 100%|██████████| 834/834 [00:30<00:00, 27.54it/s, Gen Loss=4.5576, Dis Loss=0.0404]\n"
          ]
        },
        {
          "output_type": "stream",
          "name": "stdout",
          "text": [
            "Time elapsed: 16.73 min\n"
          ]
        },
        {
          "output_type": "stream",
          "name": "stderr",
          "text": [
            "Epoch 34/50: 100%|██████████| 834/834 [00:30<00:00, 27.64it/s, Gen Loss=3.4863, Dis Loss=0.0326]\n"
          ]
        },
        {
          "output_type": "stream",
          "name": "stdout",
          "text": [
            "Time elapsed: 17.23 min\n"
          ]
        },
        {
          "output_type": "stream",
          "name": "stderr",
          "text": [
            "Epoch 35/50: 100%|██████████| 834/834 [00:30<00:00, 27.42it/s, Gen Loss=11.9300, Dis Loss=0.0041]\n"
          ]
        },
        {
          "output_type": "stream",
          "name": "stdout",
          "text": [
            "Time elapsed: 17.74 min\n"
          ]
        },
        {
          "output_type": "stream",
          "name": "stderr",
          "text": [
            "Epoch 36/50: 100%|██████████| 834/834 [00:30<00:00, 27.34it/s, Gen Loss=0.9389, Dis Loss=0.5142]\n"
          ]
        },
        {
          "output_type": "stream",
          "name": "stdout",
          "text": [
            "Time elapsed: 18.25 min\n"
          ]
        },
        {
          "output_type": "stream",
          "name": "stderr",
          "text": [
            "Epoch 37/50: 100%|██████████| 834/834 [00:30<00:00, 27.70it/s, Gen Loss=10.8961, Dis Loss=0.0118]\n"
          ]
        },
        {
          "output_type": "stream",
          "name": "stdout",
          "text": [
            "Time elapsed: 18.75 min\n"
          ]
        },
        {
          "output_type": "stream",
          "name": "stderr",
          "text": [
            "Epoch 38/50: 100%|██████████| 834/834 [00:30<00:00, 27.49it/s, Gen Loss=3.9527, Dis Loss=0.1392]\n"
          ]
        },
        {
          "output_type": "stream",
          "name": "stdout",
          "text": [
            "Time elapsed: 19.26 min\n"
          ]
        },
        {
          "output_type": "stream",
          "name": "stderr",
          "text": [
            "Epoch 39/50: 100%|██████████| 834/834 [00:30<00:00, 27.53it/s, Gen Loss=7.2945, Dis Loss=0.0027]\n"
          ]
        },
        {
          "output_type": "stream",
          "name": "stdout",
          "text": [
            "Time elapsed: 19.76 min\n"
          ]
        },
        {
          "output_type": "stream",
          "name": "stderr",
          "text": [
            "Epoch 40/50: 100%|██████████| 834/834 [00:30<00:00, 27.62it/s, Gen Loss=2.3108, Dis Loss=0.2782]\n"
          ]
        },
        {
          "output_type": "stream",
          "name": "stdout",
          "text": [
            "Time elapsed: 20.27 min\n"
          ]
        },
        {
          "output_type": "stream",
          "name": "stderr",
          "text": [
            "Epoch 41/50: 100%|██████████| 834/834 [00:30<00:00, 27.41it/s, Gen Loss=5.7258, Dis Loss=0.1012]\n"
          ]
        },
        {
          "output_type": "stream",
          "name": "stdout",
          "text": [
            "Time elapsed: 20.78 min\n"
          ]
        },
        {
          "output_type": "stream",
          "name": "stderr",
          "text": [
            "Epoch 42/50: 100%|██████████| 834/834 [00:30<00:00, 27.19it/s, Gen Loss=3.8872, Dis Loss=0.0046]\n"
          ]
        },
        {
          "output_type": "stream",
          "name": "stdout",
          "text": [
            "Time elapsed: 21.29 min\n"
          ]
        },
        {
          "output_type": "stream",
          "name": "stderr",
          "text": [
            "Epoch 43/50: 100%|██████████| 834/834 [00:30<00:00, 27.65it/s, Gen Loss=6.6785, Dis Loss=0.0077]\n"
          ]
        },
        {
          "output_type": "stream",
          "name": "stdout",
          "text": [
            "Time elapsed: 21.79 min\n"
          ]
        },
        {
          "output_type": "stream",
          "name": "stderr",
          "text": [
            "Epoch 44/50: 100%|██████████| 834/834 [00:30<00:00, 27.66it/s, Gen Loss=14.6828, Dis Loss=0.1950]\n"
          ]
        },
        {
          "output_type": "stream",
          "name": "stdout",
          "text": [
            "Time elapsed: 22.29 min\n"
          ]
        },
        {
          "output_type": "stream",
          "name": "stderr",
          "text": [
            "Epoch 45/50: 100%|██████████| 834/834 [00:30<00:00, 27.66it/s, Gen Loss=9.0161, Dis Loss=0.0127]\n"
          ]
        },
        {
          "output_type": "stream",
          "name": "stdout",
          "text": [
            "Time elapsed: 22.80 min\n"
          ]
        },
        {
          "output_type": "stream",
          "name": "stderr",
          "text": [
            "Epoch 46/50: 100%|██████████| 834/834 [00:30<00:00, 27.64it/s, Gen Loss=2.9064, Dis Loss=0.3307]\n"
          ]
        },
        {
          "output_type": "stream",
          "name": "stdout",
          "text": [
            "Time elapsed: 23.30 min\n"
          ]
        },
        {
          "output_type": "stream",
          "name": "stderr",
          "text": [
            "Epoch 47/50: 100%|██████████| 834/834 [00:30<00:00, 27.38it/s, Gen Loss=6.7351, Dis Loss=0.0405]\n"
          ]
        },
        {
          "output_type": "stream",
          "name": "stdout",
          "text": [
            "Time elapsed: 23.81 min\n"
          ]
        },
        {
          "output_type": "stream",
          "name": "stderr",
          "text": [
            "Epoch 48/50: 100%|██████████| 834/834 [00:30<00:00, 27.37it/s, Gen Loss=6.9016, Dis Loss=0.1155]\n"
          ]
        },
        {
          "output_type": "stream",
          "name": "stdout",
          "text": [
            "Time elapsed: 24.32 min\n"
          ]
        },
        {
          "output_type": "stream",
          "name": "stderr",
          "text": [
            "Epoch 49/50: 100%|██████████| 834/834 [00:30<00:00, 27.61it/s, Gen Loss=8.0416, Dis Loss=0.0018]\n"
          ]
        },
        {
          "output_type": "stream",
          "name": "stdout",
          "text": [
            "Time elapsed: 24.82 min\n"
          ]
        },
        {
          "output_type": "stream",
          "name": "stderr",
          "text": [
            "Epoch 50/50: 100%|██████████| 834/834 [00:30<00:00, 27.63it/s, Gen Loss=6.9904, Dis Loss=0.0024]\n"
          ]
        },
        {
          "output_type": "stream",
          "name": "stdout",
          "text": [
            "Time elapsed: 25.32 min\n",
            "Total Training Time: 25.32 min\n"
          ]
        }
      ]
    },
    {
      "cell_type": "code",
      "source": [],
      "metadata": {
        "id": "GigJVD72HdYh"
      },
      "execution_count": null,
      "outputs": []
    }
  ]
}