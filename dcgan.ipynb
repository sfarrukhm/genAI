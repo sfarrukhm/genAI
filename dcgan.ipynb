{
  "nbformat": 4,
  "nbformat_minor": 0,
  "metadata": {
    "colab": {
      "provenance": [],
      "gpuType": "T4",
      "mount_file_id": "12RP85CSj345MC_MySBDnlFrEY3l1jakb",
      "authorship_tag": "ABX9TyOnw1Jq1k+OxYyDD9P+bZgE",
      "include_colab_link": true
    },
    "kernelspec": {
      "name": "python3",
      "display_name": "Python 3"
    },
    "language_info": {
      "name": "python"
    },
    "accelerator": "GPU"
  },
  "cells": [
    {
      "cell_type": "markdown",
      "metadata": {
        "id": "view-in-github",
        "colab_type": "text"
      },
      "source": [
        "<a href=\"https://colab.research.google.com/github/sfarrukhm/genAI/blob/main/dcgan.ipynb\" target=\"_parent\"><img src=\"https://colab.research.google.com/assets/colab-badge.svg\" alt=\"Open In Colab\"/></a>"
      ]
    },
    {
      "cell_type": "code",
      "source": [
        "import kagglehub\n",
        "\n",
        "# Download latest version\n",
        "path = kagglehub.dataset_download(\"jessicali9530/celeba-dataset\")"
      ],
      "metadata": {
        "colab": {
          "base_uri": "https://localhost:8080/"
        },
        "id": "r7FgPgMCdbS_",
        "outputId": "bf8e83b4-452a-4513-a1b7-49fc3c3e379a"
      },
      "execution_count": null,
      "outputs": [
        {
          "output_type": "stream",
          "name": "stdout",
          "text": [
            "Downloading from https://www.kaggle.com/api/v1/datasets/download/jessicali9530/celeba-dataset?dataset_version_number=2...\n"
          ]
        },
        {
          "output_type": "stream",
          "name": "stderr",
          "text": [
            "100%|██████████| 1.33G/1.33G [00:13<00:00, 104MB/s]"
          ]
        },
        {
          "output_type": "stream",
          "name": "stdout",
          "text": [
            "Extracting files...\n"
          ]
        },
        {
          "output_type": "stream",
          "name": "stderr",
          "text": [
            "\n"
          ]
        }
      ]
    },
    {
      "cell_type": "code",
      "source": [
        "import os\n",
        "from torchvision import  transforms, datasets\n",
        "from torch.utils.data import DataLoader, Dataset, random_split\n",
        "import torch.nn as nn\n",
        "import torch\n",
        "from PIL import Image\n",
        "import torchvision\n",
        "\n",
        "\n",
        "transform=transforms.Compose([\n",
        "    transforms.Resize([64,64]),\n",
        "    transforms.ToTensor(),\n",
        "    # transforms.Grayscale(num_output_channels=1),\n",
        "    transforms.Normalize(mean=(0.5),std=(0.5))\n",
        "    ])\n",
        "\n",
        "class ImagesWithNoLabels(datasets.ImageFolder):\n",
        "  def __getitem__(self, index):\n",
        "    image, _ = super().__getitem__(index)\n",
        "    return image\n",
        "dataset=ImagesWithNoLabels(path,transform=transform)\n",
        "\n",
        "\n",
        "\n",
        "# Dataset lengths\n",
        "train_size = int(0.7 * len(dataset))  # 70% for training\n",
        "valid_size = int(0.2 * len(dataset))  # 20% for validation\n",
        "test_size = len(dataset) - train_size - valid_size  # Remaining for test\n",
        "\n",
        "# Split dataset\n",
        "train_dataset, valid_dataset, test_dataset = random_split(dataset, [train_size, valid_size, test_size])\n",
        "\n",
        "# Create DataLoaders\n",
        "train_loader = DataLoader(train_dataset, batch_size=64, shuffle=True)\n",
        "valid_loader = DataLoader(valid_dataset, batch_size=64, shuffle=False)\n",
        "test_loader = DataLoader(test_dataset, batch_size=64, shuffle=False)\n"
      ],
      "metadata": {
        "id": "WU9Tyv3P0mXL"
      },
      "execution_count": null,
      "outputs": []
    },
    {
      "cell_type": "code",
      "source": [
        "train_dataset[0].shape"
      ],
      "metadata": {
        "colab": {
          "base_uri": "https://localhost:8080/"
        },
        "id": "68shA3nSaCXN",
        "outputId": "926fe04b-58a7-4c84-9876-07abad58fa27"
      },
      "execution_count": null,
      "outputs": [
        {
          "output_type": "execute_result",
          "data": {
            "text/plain": [
              "torch.Size([3, 64, 64])"
            ]
          },
          "metadata": {},
          "execution_count": 8
        }
      ]
    },
    {
      "cell_type": "code",
      "source": [
        "import matplotlib.pyplot as plt\n",
        "\n",
        "# Get the image and label (ignore label if unnecessary)\n",
        "image= dataset[54]  # If using a custom dataset that returns only images, no label will be present\n",
        "\n",
        "# Show the image using Matplotlib\n",
        "plt.imshow(image.permute(1, 2, 0))  # Permute channels for matplotlib [C, H, W] -> [H, W, C]\n",
        "plt.axis('off')\n",
        "plt.show()\n"
      ],
      "metadata": {
        "colab": {
          "base_uri": "https://localhost:8080/",
          "height": 424
        },
        "id": "xohPAOTjYICa",
        "outputId": "684b5729-9b24-45a3-9b30-e6cc02b455e2"
      },
      "execution_count": null,
      "outputs": [
        {
          "output_type": "stream",
          "name": "stderr",
          "text": [
            "WARNING:matplotlib.image:Clipping input data to the valid range for imshow with RGB data ([0..1] for floats or [0..255] for integers). Got range [-0.9764706..1.0].\n"
          ]
        },
        {
          "output_type": "display_data",
          "data": {
            "text/plain": [
              "<Figure size 640x480 with 1 Axes>"
            ],
            "image/png": "[encoded data removed]"
          },
          "metadata": {}
        }
      ]
    },
    {
      "cell_type": "code",
      "source": [
        "class DCGAN(nn.Module):\n",
        "  def __init__(self,latent_dim=100 ):\n",
        "    super().__init__()\n",
        "    self.discriminator=nn.Sequential(\n",
        "        nn.Conv2d(in_channels=3,out_channels=64,kernel_size=4,\n",
        "                  stride=2,padding=1,bias=False),\n",
        "        nn.LeakyReLU(inplace=True),\n",
        "        nn.Dropout(0.3),\n",
        "        nn.Conv2d(64,128,kernel_size=4,\n",
        "                  stride=2,padding=1,bias=False),\n",
        "        nn.BatchNorm2d(128),\n",
        "        nn.LeakyReLU(inplace=True),\n",
        "        nn.Dropout(0.3),\n",
        "        nn.Conv2d(128,256,kernel_size=4,\n",
        "                  stride=2,padding=1,bias=False),\n",
        "        nn.BatchNorm2d(256),\n",
        "        nn.LeakyReLU(inplace=True),\n",
        "        nn.Dropout(0.3),\n",
        "        nn.Conv2d(256,512,kernel_size=4,\n",
        "                  stride=2,padding=1,bias=False),\n",
        "        nn.BatchNorm2d(512),\n",
        "        nn.LeakyReLU(inplace=True),\n",
        "        nn.Dropout(0.3),\n",
        "        nn.Conv2d(512,1,kernel_size=4,\n",
        "                  stride=2,padding=0,bias=False,),\n",
        "        nn.Flatten())\n",
        "    self.generator=nn.Sequential(\n",
        "        nn.ConvTranspose2d(latent_dim,512, kernel_size=4, stride=1,\n",
        "                           padding=0,\n",
        "                               bias=False),\n",
        "        nn.BatchNorm2d(512),\n",
        "        nn.LeakyReLU(inplace=True),\n",
        "        nn.ConvTranspose2d(512,256,kernel_size=4, stride=2, padding=1,\n",
        "                               bias=False),\n",
        "        nn.BatchNorm2d(256),\n",
        "        nn.LeakyReLU(inplace=True),\n",
        "        nn.ConvTranspose2d(256,128,kernel_size=4, stride=2, padding=1,\n",
        "                               bias=False),\n",
        "        nn.BatchNorm2d(128),\n",
        "        nn.LeakyReLU(inplace=True),\n",
        "\n",
        "        nn.ConvTranspose2d(128,64,kernel_size=4, stride=2, padding=1,\n",
        "                               bias=False),\n",
        "        nn.BatchNorm2d(64),\n",
        "        nn.LeakyReLU(inplace=True),\n",
        "        nn.ConvTranspose2d(64,3,kernel_size=4, stride=2, padding=1,\n",
        "                               bias=False),\n",
        "        nn.Tanh()\n",
        "    )\n",
        "  def generator_forward(self,z):\n",
        "    generated_image=self.generator(z)\n",
        "    return generated_image\n",
        "  def discriminator_forward(self,image):\n",
        "    logits=self.discriminator(image)\n",
        "    return logits\n",
        "\n",
        "\n",
        "\n",
        "from torch.optim import AdamW\n",
        "\n",
        "model=DCGAN()\n",
        "\n",
        "optimizer_gener=AdamW(model.generator.parameters(),lr=1e-4,betas=(0.95,0.999),)\n",
        "optimizer_discr=AdamW(model.discriminator.parameters(),lr=1e-4,betas=(0.95,0.999),)"
      ],
      "metadata": {
        "id": "7yxs1R5nh1CH"
      },
      "execution_count": 44,
      "outputs": []
    },
    {
      "cell_type": "code",
      "source": [
        "## Training Loop\n",
        "from collections import defaultdict\n",
        "import time\n",
        "\n",
        "def train_model(model, num_epochs, optimizer_gener, optimizer_discr,\n",
        "                device, train_loader,latent_dim=100, logging_interval=100,save_model=None):\n",
        "  log_dict=defaultdict(list)\n",
        "  # define the loss function\n",
        "  loss_fn=torch.nn.BCEWithLogitsLoss()\n",
        "  torch.manual_seed(23424)\n",
        "  fixed_noise=torch.randn(64, latent_dim, 1, 1, device=device)\n",
        "  start_time=time.time()\n",
        "  for epoch in range(num_epochs):\n",
        "    for batch_idx, features in enumerate(train_loader):\n",
        "      batch_size=features.size(0)\n",
        "\n",
        "      # real images\n",
        "      real_images=features.to(device)\n",
        "\n",
        "      real_labels=torch.ones(batch_size, device=device)\n",
        "\n",
        "      # generated images\n",
        "      noise=torch.randn(batch_size,latent_dim, 1,1, device=device)\n",
        "      fake_images=model.generator_forward(noise)\n",
        "\n",
        "      fake_labels=torch.zeros(batch_size,device=device)\n",
        "      flipped_fake_labels=real_labels\n",
        "\n",
        "\n",
        "      # train discriminator\n",
        "      optimizer_discr.zero_grad()\n",
        "      real_img_logits=model.discriminator_forward(real_images).view(-1)\n",
        "\n",
        "\n",
        "      fake_img_logits=model.discriminator_forward(\n",
        "          fake_images.detach()).view(-1)\n",
        "      loss_on_real_imgs=loss_fn(real_img_logits, real_labels)\n",
        "      loss_on_gen_imgs=loss_fn(fake_img_logits,flipped_fake_labels)\n",
        "\n",
        "      loss_discr=0.5*(loss_on_real_imgs+loss_on_gen_imgs)\n",
        "\n",
        "      loss_discr.backward()\n",
        "      optimizer_discr.step()\n",
        "\n",
        "      # train generator\n",
        "      optimizer_gener.zero_grad()\n",
        "      logits_on_generated_images = model.discriminator_forward(fake_images).view(-1)\n",
        "      loss_gener=loss_fn(logits_on_generated_images, flipped_fake_labels)\n",
        "\n",
        "      loss_gener.backward()\n",
        "      optimizer_gener.step()\n",
        "\n",
        "\n",
        "    # --------------------------\n",
        "    # Logging\n",
        "    # --------------------------\n",
        "      log_dict['train_generator_loss_per_batch'].append(loss_gener.item())\n",
        "      log_dict['train_discriminator_loss_per_batch'].append(loss_discr.item())\n",
        "\n",
        "      predicted_labels_real = torch.where(real_img_logits.detach() > 0., 1., 0.)\n",
        "      predicted_labels_fake = torch.where(logits_on_generated_images.detach() > 0., 1., 0.)\n",
        "      acc_real = (predicted_labels_real == real_labels).float().mean()*100.\n",
        "      acc_fake = (predicted_labels_fake == fake_labels).float().mean()*100.\n",
        "      log_dict['train_discriminator_real_acc_per_batch'].append(acc_real.item())\n",
        "      log_dict['train_discriminator_fake_acc_per_batch'].append(acc_fake.item())\n",
        "\n",
        "      if not batch_idx % logging_interval:\n",
        "          print('Epoch: %03d/%03d | Batch %03d/%03d | Gen/Dis Loss: %.4f/%.4f'\n",
        "                 % (epoch+1, num_epochs, batch_idx,\n",
        "                    len(train_loader), loss_gener.item(), loss_discr.item()))\n",
        "        ### Save images for evaluation\n",
        "    with torch.no_grad():\n",
        "        fake_images = model.generator_forward(fixed_noise).detach().cpu()\n",
        "        log_dict['images_from_noise_per_epoch'].append(\n",
        "            torchvision.utils.make_grid(fake_images, padding=2, normalize=True))\n",
        "\n",
        "\n",
        "    print('Time elapsed: %.2f min' % ((time.time() - start_time)/60))\n",
        "\n",
        "  print('Total Training Time: %.2f min' % ((time.time() - start_time)/60))\n",
        "\n",
        "  if save_model is not None:\n",
        "      torch.save(model.state_dict(), save_model)\n",
        "\n",
        "  return log_dict\n",
        "\n",
        "\n",
        "\n",
        "\n",
        "save_model_path=\"/content/drive/MyDrive/generative_modeling/models_trained/dcgan_celeba_state_dict.pt\"\n",
        "device=\"cuda\" if torch.cuda.is_available() else \"cpu\"\n",
        "log_dict =train_model(num_epochs=50, model=model,\n",
        "                        optimizer_gener=optimizer_gener,\n",
        "                        optimizer_discr=optimizer_discr,\n",
        "                        latent_dim=100,\n",
        "                        device=device,\n",
        "                        train_loader=train_loader,\n",
        "                        logging_interval=100,\n",
        "                        save_model=save_model_path)\n",
        "torch.save(log_dict,\"/content/drive/MyDrive/generative_modeling/models_trained/dcgan_celeba_log_dict.pt\")"
      ],
      "metadata": {
        "id": "U77ahFyCdYQT",
        "colab": {
          "base_uri": "https://localhost:8080/",
          "height": 387
        },
        "outputId": "13fb3835-8f5b-45c1-cb16-33bded68146e"
      },
      "execution_count": 47,
      "outputs": [
        {
          "output_type": "stream",
          "name": "stdout",
          "text": [
            "Epoch: 001/005 | Batch 000/2216 | Gen/Dis Loss: 0.0469/0.0458\n"
          ]
        },
        {
          "output_type": "error",
          "ename": "KeyboardInterrupt",
          "evalue": "",
          "traceback": [
            "\u001b[0;31m---------------------------------------------------------------------------\u001b[0m",
            "\u001b[0;31mKeyboardInterrupt\u001b[0m                         Traceback (most recent call last)",
            "\u001b[0;32m<ipython-input-47-b7eeeee6e0a5>\u001b[0m in \u001b[0;36m<cell line: 0>\u001b[0;34m()\u001b[0m\n\u001b[1;32m     90\u001b[0m \u001b[0msave_model_path\u001b[0m\u001b[0;34m=\u001b[0m\u001b[0;34m\"/content/drive/MyDrive/generative_modeling/models_trained/dcgan_celeba_state_dict.pt\"\u001b[0m\u001b[0;34m\u001b[0m\u001b[0;34m\u001b[0m\u001b[0m\n\u001b[1;32m     91\u001b[0m \u001b[0mdevice\u001b[0m\u001b[0;34m=\u001b[0m\u001b[0;34m\"cuda\"\u001b[0m \u001b[0;32mif\u001b[0m \u001b[0mtorch\u001b[0m\u001b[0;34m.\u001b[0m\u001b[0mcuda\u001b[0m\u001b[0;34m.\u001b[0m\u001b[0mis_available\u001b[0m\u001b[0;34m(\u001b[0m\u001b[0;34m)\u001b[0m \u001b[0;32melse\u001b[0m \u001b[0;34m\"cpu\"\u001b[0m\u001b[0;34m\u001b[0m\u001b[0;34m\u001b[0m\u001b[0m\n\u001b[0;32m---> 92\u001b[0;31m log_dict =train_model(num_epochs=5, model=model, \n\u001b[0m\u001b[1;32m     93\u001b[0m                         \u001b[0moptimizer_gener\u001b[0m\u001b[0;34m=\u001b[0m\u001b[0moptimizer_gener\u001b[0m\u001b[0;34m,\u001b[0m\u001b[0;34m\u001b[0m\u001b[0;34m\u001b[0m\u001b[0m\n\u001b[1;32m     94\u001b[0m                         \u001b[0moptimizer_discr\u001b[0m\u001b[0;34m=\u001b[0m\u001b[0moptimizer_discr\u001b[0m\u001b[0;34m,\u001b[0m\u001b[0;34m\u001b[0m\u001b[0;34m\u001b[0m\u001b[0m\n",
            "\u001b[0;32m<ipython-input-47-b7eeeee6e0a5>\u001b[0m in \u001b[0;36mtrain_model\u001b[0;34m(model, num_epochs, optimizer_gener, optimizer_discr, device, train_loader, latent_dim, logging_interval, save_model)\u001b[0m\n\u001b[1;32m     40\u001b[0m       \u001b[0mloss_discr\u001b[0m\u001b[0;34m=\u001b[0m\u001b[0;36m0.5\u001b[0m\u001b[0;34m*\u001b[0m\u001b[0;34m(\u001b[0m\u001b[0mloss_on_real_imgs\u001b[0m\u001b[0;34m+\u001b[0m\u001b[0mloss_on_gen_imgs\u001b[0m\u001b[0;34m)\u001b[0m\u001b[0;34m\u001b[0m\u001b[0;34m\u001b[0m\u001b[0m\n\u001b[1;32m     41\u001b[0m \u001b[0;34m\u001b[0m\u001b[0m\n\u001b[0;32m---> 42\u001b[0;31m       \u001b[0mloss_discr\u001b[0m\u001b[0;34m.\u001b[0m\u001b[0mbackward\u001b[0m\u001b[0;34m(\u001b[0m\u001b[0;34m)\u001b[0m\u001b[0;34m\u001b[0m\u001b[0;34m\u001b[0m\u001b[0m\n\u001b[0m\u001b[1;32m     43\u001b[0m       \u001b[0moptimizer_discr\u001b[0m\u001b[0;34m.\u001b[0m\u001b[0mstep\u001b[0m\u001b[0;34m(\u001b[0m\u001b[0;34m)\u001b[0m\u001b[0;34m\u001b[0m\u001b[0;34m\u001b[0m\u001b[0m\n\u001b[1;32m     44\u001b[0m \u001b[0;34m\u001b[0m\u001b[0m\n",
            "\u001b[0;32m/usr/local/lib/python3.11/dist-packages/torch/_tensor.py\u001b[0m in \u001b[0;36mbackward\u001b[0;34m(self, gradient, retain_graph, create_graph, inputs)\u001b[0m\n\u001b[1;32m    579\u001b[0m                 \u001b[0minputs\u001b[0m\u001b[0;34m=\u001b[0m\u001b[0minputs\u001b[0m\u001b[0;34m,\u001b[0m\u001b[0;34m\u001b[0m\u001b[0;34m\u001b[0m\u001b[0m\n\u001b[1;32m    580\u001b[0m             )\n\u001b[0;32m--> 581\u001b[0;31m         torch.autograd.backward(\n\u001b[0m\u001b[1;32m    582\u001b[0m             \u001b[0mself\u001b[0m\u001b[0;34m,\u001b[0m \u001b[0mgradient\u001b[0m\u001b[0;34m,\u001b[0m \u001b[0mretain_graph\u001b[0m\u001b[0;34m,\u001b[0m \u001b[0mcreate_graph\u001b[0m\u001b[0;34m,\u001b[0m \u001b[0minputs\u001b[0m\u001b[0;34m=\u001b[0m\u001b[0minputs\u001b[0m\u001b[0;34m\u001b[0m\u001b[0;34m\u001b[0m\u001b[0m\n\u001b[1;32m    583\u001b[0m         )\n",
            "\u001b[0;32m/usr/local/lib/python3.11/dist-packages/torch/autograd/__init__.py\u001b[0m in \u001b[0;36mbackward\u001b[0;34m(tensors, grad_tensors, retain_graph, create_graph, grad_variables, inputs)\u001b[0m\n\u001b[1;32m    345\u001b[0m     \u001b[0;31m# some Python versions print out the first line of a multi-line function\u001b[0m\u001b[0;34m\u001b[0m\u001b[0;34m\u001b[0m\u001b[0m\n\u001b[1;32m    346\u001b[0m     \u001b[0;31m# calls in the traceback and some print out the last line\u001b[0m\u001b[0;34m\u001b[0m\u001b[0;34m\u001b[0m\u001b[0m\n\u001b[0;32m--> 347\u001b[0;31m     _engine_run_backward(\n\u001b[0m\u001b[1;32m    348\u001b[0m         \u001b[0mtensors\u001b[0m\u001b[0;34m,\u001b[0m\u001b[0;34m\u001b[0m\u001b[0;34m\u001b[0m\u001b[0m\n\u001b[1;32m    349\u001b[0m         \u001b[0mgrad_tensors_\u001b[0m\u001b[0;34m,\u001b[0m\u001b[0;34m\u001b[0m\u001b[0;34m\u001b[0m\u001b[0m\n",
            "\u001b[0;32m/usr/local/lib/python3.11/dist-packages/torch/autograd/graph.py\u001b[0m in \u001b[0;36m_engine_run_backward\u001b[0;34m(t_outputs, *args, **kwargs)\u001b[0m\n\u001b[1;32m    823\u001b[0m         \u001b[0munregister_hooks\u001b[0m \u001b[0;34m=\u001b[0m \u001b[0m_register_logging_hooks_on_whole_graph\u001b[0m\u001b[0;34m(\u001b[0m\u001b[0mt_outputs\u001b[0m\u001b[0;34m)\u001b[0m\u001b[0;34m\u001b[0m\u001b[0;34m\u001b[0m\u001b[0m\n\u001b[1;32m    824\u001b[0m     \u001b[0;32mtry\u001b[0m\u001b[0;34m:\u001b[0m\u001b[0;34m\u001b[0m\u001b[0;34m\u001b[0m\u001b[0m\n\u001b[0;32m--> 825\u001b[0;31m         return Variable._execution_engine.run_backward(  # Calls into the C++ engine to run the backward pass\n\u001b[0m\u001b[1;32m    826\u001b[0m             \u001b[0mt_outputs\u001b[0m\u001b[0;34m,\u001b[0m \u001b[0;34m*\u001b[0m\u001b[0margs\u001b[0m\u001b[0;34m,\u001b[0m \u001b[0;34m**\u001b[0m\u001b[0mkwargs\u001b[0m\u001b[0;34m\u001b[0m\u001b[0;34m\u001b[0m\u001b[0m\n\u001b[1;32m    827\u001b[0m         )  # Calls into the C++ engine to run the backward pass\n",
            "\u001b[0;31mKeyboardInterrupt\u001b[0m: "
          ]
        }
      ]
    },
    {
      "cell_type": "code",
      "source": [
        "x=torch.randn([64, 100, 1, 1])\n",
        "d=model.generator_forward(x)\n",
        "d.shape"
      ],
      "metadata": {
        "colab": {
          "base_uri": "https://localhost:8080/"
        },
        "id": "YFqwfTVYtr4s",
        "outputId": "075c7cb0-11f4-4805-8f29-39700f44606c"
      },
      "execution_count": 38,
      "outputs": [
        {
          "output_type": "execute_result",
          "data": {
            "text/plain": [
              "torch.Size([64, 3, 32, 32])"
            ]
          },
          "metadata": {},
          "execution_count": 38
        }
      ]
    }
  ]
}